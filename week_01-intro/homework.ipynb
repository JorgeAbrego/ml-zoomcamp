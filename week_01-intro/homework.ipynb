{
 "cells": [
  {
   "cell_type": "markdown",
   "id": "6bf5ba5b-50b1-48ef-8a36-f7df203eb5e4",
   "metadata": {},
   "source": [
    "## Week 01 - Intro\n",
    "\n",
    "By Jorge Abrego"
   ]
  },
  {
   "cell_type": "markdown",
   "id": "aa358631-f8d9-48c7-afd7-0b39ce8122b3",
   "metadata": {},
   "source": [
    "To install environment, run the following command\n",
    "\n",
    "    > pip install numpy pandas scikit-learn seaborn"
   ]
  },
  {
   "cell_type": "markdown",
   "id": "ecc59363-fdf7-4b00-b58c-44260cfa653f",
   "metadata": {},
   "source": [
    "### Question 1\n",
    "\n",
    "What's the version of Pandas that you installed?"
   ]
  },
  {
   "cell_type": "code",
   "execution_count": 1,
   "id": "077e67b2-5608-418d-b9a4-7f48e1cc89c4",
   "metadata": {
    "tags": []
   },
   "outputs": [
    {
     "data": {
      "text/plain": [
       "'2.1.0'"
      ]
     },
     "execution_count": 1,
     "metadata": {},
     "output_type": "execute_result"
    }
   ],
   "source": [
    "import numpy as np\n",
    "import pandas as pd\n",
    "\n",
    "pd.__version__"
   ]
  },
  {
   "cell_type": "markdown",
   "id": "3457f647-7097-46b4-b491-2b368264b922",
   "metadata": {},
   "source": [
    "### Getting the data"
   ]
  },
  {
   "cell_type": "code",
   "execution_count": 2,
   "id": "9406c07d-53f1-4811-929b-b071af49d268",
   "metadata": {
    "tags": []
   },
   "outputs": [
    {
     "name": "stdout",
     "output_type": "stream",
     "text": [
      "--2023-09-16 21:33:25--  https://raw.githubusercontent.com/alexeygrigorev/datasets/master/housing.csv\n",
      "Resolving raw.githubusercontent.com (raw.githubusercontent.com)... 185.199.110.133, 185.199.111.133, 185.199.108.133, ...\n",
      "Connecting to raw.githubusercontent.com (raw.githubusercontent.com)|185.199.110.133|:443... connected.\n",
      "HTTP request sent, awaiting response... 200 OK\n",
      "Length: 1423529 (1.4M) [text/plain]\n",
      "Saving to: './data/housing.csv'\n",
      "\n",
      "housing.csv         100%[===================>]   1.36M  --.-KB/s    in 0.04s   \n",
      "\n",
      "2023-09-16 21:33:25 (32.1 MB/s) - './data/housing.csv' saved [1423529/1423529]\n",
      "\n"
     ]
    }
   ],
   "source": [
    "!wget https://raw.githubusercontent.com/alexeygrigorev/datasets/master/housing.csv -P ./data"
   ]
  },
  {
   "cell_type": "markdown",
   "id": "40c16f53-2977-4df7-963a-1997762989b7",
   "metadata": {},
   "source": [
    "### Question 2\n",
    "\n",
    "How many columns are in the dataset?"
   ]
  },
  {
   "cell_type": "code",
   "execution_count": 3,
   "id": "f8db7159-4cc0-4207-b004-823520559d9c",
   "metadata": {
    "tags": []
   },
   "outputs": [],
   "source": [
    "df = pd.read_csv('data/housing.csv')"
   ]
  },
  {
   "cell_type": "code",
   "execution_count": 4,
   "id": "c05632d4-b9f8-487a-9a3f-ee3d0943a4f1",
   "metadata": {
    "tags": []
   },
   "outputs": [
    {
     "data": {
      "text/plain": [
       "(20640, 10)"
      ]
     },
     "execution_count": 4,
     "metadata": {},
     "output_type": "execute_result"
    }
   ],
   "source": [
    "df.shape"
   ]
  },
  {
   "cell_type": "code",
   "execution_count": 5,
   "id": "3286f19a-3a3a-46da-b62c-9b979f8c64ac",
   "metadata": {
    "tags": []
   },
   "outputs": [
    {
     "name": "stdout",
     "output_type": "stream",
     "text": [
      "There are 10 columns in the dataset.\n"
     ]
    }
   ],
   "source": [
    "print(f\"There are {df.shape[1]} columns in the dataset.\")"
   ]
  },
  {
   "cell_type": "markdown",
   "id": "652c111d-b953-497d-a9f4-5b69c0dfb014",
   "metadata": {},
   "source": [
    "### Question 3\n",
    "\n",
    "Which columns in the dataset have missing values?"
   ]
  },
  {
   "cell_type": "code",
   "execution_count": 6,
   "id": "c3ade833-a98e-46d8-8d15-8a8b52919443",
   "metadata": {
    "tags": []
   },
   "outputs": [
    {
     "data": {
      "text/plain": [
       "longitude               0\n",
       "latitude                0\n",
       "housing_median_age      0\n",
       "total_rooms             0\n",
       "total_bedrooms        207\n",
       "population              0\n",
       "households              0\n",
       "median_income           0\n",
       "median_house_value      0\n",
       "ocean_proximity         0\n",
       "dtype: int64"
      ]
     },
     "execution_count": 6,
     "metadata": {},
     "output_type": "execute_result"
    }
   ],
   "source": [
    "df.isna().sum()"
   ]
  },
  {
   "cell_type": "code",
   "execution_count": 7,
   "id": "57dff32e-7f16-4045-8155-be8e44cdcd5c",
   "metadata": {
    "tags": []
   },
   "outputs": [
    {
     "name": "stdout",
     "output_type": "stream",
     "text": [
      "Column \u001b[1mtotal_bedrooms\u001b[0m has missing values.\n"
     ]
    }
   ],
   "source": [
    "print(f\"Column \\033[1mtotal_bedrooms\\033[0m has missing values.\")"
   ]
  },
  {
   "cell_type": "markdown",
   "id": "98ada6e3-72c5-48bf-9c2d-6f53eb59c215",
   "metadata": {},
   "source": [
    "### Question 4\n",
    "\n",
    "How many unique values does the `ocean_proximity` column have?"
   ]
  },
  {
   "cell_type": "code",
   "execution_count": 9,
   "id": "1c1a9036-9985-44e8-b22c-8875c9c1b53c",
   "metadata": {
    "tags": []
   },
   "outputs": [
    {
     "data": {
      "text/plain": [
       "5"
      ]
     },
     "execution_count": 9,
     "metadata": {},
     "output_type": "execute_result"
    }
   ],
   "source": [
    "df['ocean_proximity'].nunique()"
   ]
  },
  {
   "cell_type": "code",
   "execution_count": 11,
   "id": "939f9a84-097d-4b89-b9dc-3ad617553e17",
   "metadata": {
    "tags": []
   },
   "outputs": [
    {
     "name": "stdout",
     "output_type": "stream",
     "text": [
      "Column ocean_proximity has \u001b[1m5\u001b[0m unique values.\n"
     ]
    }
   ],
   "source": [
    "print(f\"Column ocean_proximity has \\033[1m5\\033[0m unique values.\")"
   ]
  },
  {
   "cell_type": "markdown",
   "id": "afc54863-f904-4fb1-8f75-930c865241cc",
   "metadata": {},
   "source": [
    "### Question 5\n",
    "\n",
    "What's the average value of the `median_house_value` for the houses located near the bay?"
   ]
  },
  {
   "cell_type": "code",
   "execution_count": 14,
   "id": "31e1564e-875a-4cf7-bd6a-7fc62e4ce8b8",
   "metadata": {
    "tags": []
   },
   "outputs": [
    {
     "data": {
      "text/plain": [
       "259212.31179039303"
      ]
     },
     "execution_count": 14,
     "metadata": {},
     "output_type": "execute_result"
    }
   ],
   "source": [
    "df[df['ocean_proximity']=='NEAR BAY']['median_house_value'].mean()"
   ]
  },
  {
   "cell_type": "code",
   "execution_count": 16,
   "id": "d59904af-157c-4ec4-835f-7fe22e50fd6d",
   "metadata": {
    "tags": []
   },
   "outputs": [
    {
     "name": "stdout",
     "output_type": "stream",
     "text": [
      "The average value of the median_house_value column for houses located near the bay is \u001b[1m259212\u001b[0m\n"
     ]
    }
   ],
   "source": [
    "print(f\"The average value of the median_house_value column for houses located near the bay is \\033[1m259212\\033[0m.\")"
   ]
  },
  {
   "cell_type": "markdown",
   "id": "5c34e0df-4972-49af-9ff6-2d26cfe34a4c",
   "metadata": {},
   "source": [
    "### Question 6\n",
    "\n",
    "1. Calculate the average of `total_bedrooms` column in the dataset.\n",
    "2. Use the `fillna` method to fill the missing values in `total_bedrooms` with the mean value from the previous step.\n",
    "3. Now, calculate the average of `total_bedrooms` again.\n",
    "4. Has it changed?\n",
    "\n",
    "Has it changed?"
   ]
  },
  {
   "cell_type": "code",
   "execution_count": 18,
   "id": "b5ec252a-0048-457c-8bb8-e4fc09e7ef69",
   "metadata": {
    "tags": []
   },
   "outputs": [
    {
     "data": {
      "text/plain": [
       "537.8705525375618"
      ]
     },
     "execution_count": 18,
     "metadata": {},
     "output_type": "execute_result"
    }
   ],
   "source": [
    "df['total_bedrooms'].mean()"
   ]
  },
  {
   "cell_type": "code",
   "execution_count": 20,
   "id": "243ab5c8-f9aa-4c94-aa51-c24d3937360a",
   "metadata": {
    "tags": []
   },
   "outputs": [
    {
     "data": {
      "text/plain": [
       "537.8705525375617"
      ]
     },
     "execution_count": 20,
     "metadata": {},
     "output_type": "execute_result"
    }
   ],
   "source": [
    "df['total_bedrooms'].fillna(df['total_bedrooms'].mean(), inplace=True)\n",
    "df['total_bedrooms'].mean()"
   ]
  },
  {
   "cell_type": "code",
   "execution_count": 21,
   "id": "0bde0480-eea2-4d33-b2b5-32c4e00bfe36",
   "metadata": {
    "tags": []
   },
   "outputs": [
    {
     "name": "stdout",
     "output_type": "stream",
     "text": [
      "Average doesn´t changed filling missing values with the same average value.\n"
     ]
    }
   ],
   "source": [
    "print(f\"Average doesn´t changed filling missing values with the same average value.\")"
   ]
  },
  {
   "cell_type": "markdown",
   "id": "6b09569b-00fc-4e10-9180-03789845ce40",
   "metadata": {},
   "source": [
    "### Question 7\n",
    "\n",
    "1. Select all the options located on islands.\n",
    "2. Select only columns `housing_median_age`, `total_rooms`, `total_bedrooms`.\n",
    "3. Get the underlying NumPy array. Let's call it `X`.\n",
    "4. Compute matrix-matrix multiplication between the transpose of `X` and `X`. To get the transpose, use `X.T`. Let's call the result `XTX`.\n",
    "5. Compute the inverse of `XTX`.\n",
    "6. Create an array `y` with values `[950, 1300, 800, 1000, 1300]`.\n",
    "7. Multiply the inverse of `XTX` with the transpose of `X`, and then multiply the result by `y`. Call the result `w`.\n",
    "8. What's the value of the last element of `w`?"
   ]
  },
  {
   "cell_type": "code",
   "execution_count": 22,
   "id": "a353ed9d-ad0a-47e8-ad32-9b83309bf94c",
   "metadata": {
    "tags": []
   },
   "outputs": [],
   "source": [
    "X = df[df['ocean_proximity']=='ISLAND'][['housing_median_age', 'total_rooms', 'total_bedrooms']].values"
   ]
  },
  {
   "cell_type": "code",
   "execution_count": 25,
   "id": "03a68f55-0d7d-455e-bb38-fd0b1e2dbc1d",
   "metadata": {
    "tags": []
   },
   "outputs": [],
   "source": [
    "XTX = X.T @ X"
   ]
  },
  {
   "cell_type": "code",
   "execution_count": 26,
   "id": "082c92f9-2145-45fc-9ebe-94f4e30d7461",
   "metadata": {
    "tags": []
   },
   "outputs": [],
   "source": [
    "XTX = np.linalg.inv(XTX)"
   ]
  },
  {
   "cell_type": "code",
   "execution_count": 27,
   "id": "ca62165b-b128-4ade-b8ce-da22300288c8",
   "metadata": {
    "tags": []
   },
   "outputs": [],
   "source": [
    "y = np.array([950, 1300, 800, 1000, 1300])"
   ]
  },
  {
   "cell_type": "code",
   "execution_count": 28,
   "id": "96b44866-8b5c-4de6-9c14-348aa1af4b6d",
   "metadata": {
    "tags": []
   },
   "outputs": [],
   "source": [
    "w = (XTX @ X.T) @ y"
   ]
  },
  {
   "cell_type": "code",
   "execution_count": 31,
   "id": "e9965bc2-defd-4d6c-9cb2-b63986f6f985",
   "metadata": {
    "tags": []
   },
   "outputs": [
    {
     "data": {
      "text/plain": [
       "array([23.12330961, -1.48124183,  5.69922946])"
      ]
     },
     "execution_count": 31,
     "metadata": {},
     "output_type": "execute_result"
    }
   ],
   "source": [
    "w"
   ]
  },
  {
   "cell_type": "code",
   "execution_count": 33,
   "id": "e8bc93de-386f-4c68-af63-ce11b753a538",
   "metadata": {
    "tags": []
   },
   "outputs": [
    {
     "name": "stdout",
     "output_type": "stream",
     "text": [
      "The value of the last element of w is \u001b[1m5.6992\u001b[0m.\n"
     ]
    }
   ],
   "source": [
    "print(f\"The value of the last element of w is \\033[1m{w[-1].round(4)}\\033[0m.\")"
   ]
  },
  {
   "cell_type": "code",
   "execution_count": null,
   "id": "03ff7a1d-c458-4f4c-bb67-f4a984f6bcc0",
   "metadata": {},
   "outputs": [],
   "source": []
  }
 ],
 "metadata": {
  "kernelspec": {
   "display_name": "vlady-mle:Python",
   "language": "python",
   "name": "conda-env-vlady-mle-py"
  },
  "language_info": {
   "codemirror_mode": {
    "name": "ipython",
    "version": 3
   },
   "file_extension": ".py",
   "mimetype": "text/x-python",
   "name": "python",
   "nbconvert_exporter": "python",
   "pygments_lexer": "ipython3",
   "version": "3.10.12"
  }
 },
 "nbformat": 4,
 "nbformat_minor": 5
}
